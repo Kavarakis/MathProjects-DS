{
 "cells": [
  {
   "cell_type": "code",
   "execution_count": 1,
   "metadata": {},
   "outputs": [],
   "source": [
    "import numpy as np\n",
    "import seaborn as sns\n",
    "import matplotlib.pyplot as plt\n",
    "import math\n",
    "from mpl_toolkits import mplot3d\n",
    "%matplotlib inline"
   ]
  },
  {
   "cell_type": "code",
   "execution_count": 2,
   "metadata": {},
   "outputs": [
    {
     "data": {
      "text/plain": [
       "[<mpl_toolkits.mplot3d.art3d.Line3D at 0x7f012bfbc650>]"
      ]
     },
     "execution_count": 2,
     "metadata": {},
     "output_type": "execute_result"
    },
    {
     "data": {
      "image/png": "[encoded data removed]",
      "text/plain": [
       "<Figure size 432x288 with 1 Axes>"
      ]
     },
     "metadata": {
      "needs_background": "light"
     },
     "output_type": "display_data"
    }
   ],
   "source": [
    "# Data for a three-dimensional line\n",
    "ax = plt.axes(projection='3d')\n",
    "x = np.linspace(-5, 0.1, 5)\n",
    "y = np.linspace(-5, 0.1, 5)\n",
    "zline = x**2+ math.e**x + y**2 - x*y\n",
    "ax.plot3D(x,y, zline, 'gray')"
   ]
  },
  {
   "cell_type": "code",
   "execution_count": 3,
   "metadata": {},
   "outputs": [],
   "source": [
    "def calcd(x1,y1,x2,y2):  \n",
    "    d = math.sqrt((x2 - x1)**2 + (y2 - y1)**2)  \n",
    "    return d"
   ]
  },
  {
   "cell_type": "code",
   "execution_count": 4,
   "metadata": {},
   "outputs": [],
   "source": [
    "def get_line_intersection(k1,n1,k2,n2):\n",
    "    # l1: y = k1*x +n1\n",
    "    # l2: y = k2*x + n2\n",
    "    # k1*x  + n1 = k2*x + n2\n",
    "    x = (n2 - n1)/(k1-k2)\n",
    "    y = k1*x + n2\n",
    "    return x,y"
   ]
  },
  {
   "cell_type": "code",
   "execution_count": 5,
   "metadata": {},
   "outputs": [],
   "source": [
    "def get_line_coef(x1,y1,x2,y2):\n",
    "    if( x2 == x1):\n",
    "        return [0,0]\n",
    "    k = (y2 -y1) / (x2-x1)\n",
    "    n = (y1 - k*x1)\n",
    "    return np.array([k,n])"
   ]
  },
  {
   "cell_type": "code",
   "execution_count": 6,
   "metadata": {},
   "outputs": [],
   "source": [
    "def get_normal_k(k):\n",
    "    if(k == 0):\n",
    "        return 0 \n",
    "    return -(1/k)"
   ]
  },
  {
   "cell_type": "code",
   "execution_count": 7,
   "metadata": {},
   "outputs": [],
   "source": [
    "def circle_proj(x,y):\n",
    "    #If already in circle\n",
    "    if((x**2 + y**2) <=1.5):\n",
    "        return np.array([x,y])\n",
    "    #calculate slope for a line from our point to center of circle\n",
    "    k = y/x\n",
    "    #get coordinates of intersection of line and circle ( project to the defined convex set)\n",
    "    x1 = math.sqrt((1.5/(1+k**2)))\n",
    "    x2 = -x1\n",
    "    y1 = k*x1\n",
    "    y2 = k*x2\n",
    "    \n",
    "    dis1 = calcd(x,y,x1,y1)\n",
    "    dis2 =calcd(x,y,x2,y2)\n",
    "    \n",
    "    if(dis1 < dis2):\n",
    "        return np.array([x1,y1])\n",
    "    return np.array([x2,y2])"
   ]
  },
  {
   "cell_type": "code",
   "execution_count": 8,
   "metadata": {},
   "outputs": [],
   "source": [
    "def get_t(x,y,x1,y1,x2,y2):\n",
    "    if(x1 == x2 and y2 == y1):\n",
    "        return False\n",
    "    t = -(((x1 - x)*(x2 - x1) + (y1 - y)*(y2 - y1))/((x2 - x1)**2 + (y2 - y1)**2))\n",
    "    return t"
   ]
  },
  {
   "cell_type": "code",
   "execution_count": 9,
   "metadata": {},
   "outputs": [],
   "source": [
    "def get_ls_proj(x,y,x1,y1,x2,y2):\n",
    "    #line segment\n",
    "    lsk,lsn = get_line_coef(x1,y1,x2,y2)\n",
    "    # point line construction:\n",
    "    if(lsk != 0):\n",
    "        plk = get_normal_k(lsk)\n",
    "        pln = y - plk*x\n",
    "        return get_line_intersection(plk,pln,lsk,lsn)\n",
    "    # vertical lines\n",
    "    elif(lsn == 0):\n",
    "        return x1,y\n",
    "    else:\n",
    "        return x,y1\n",
    "   "
   ]
  },
  {
   "cell_type": "code",
   "execution_count": 10,
   "metadata": {},
   "outputs": [],
   "source": [
    "def lines_proj(x,y,lines):\n",
    "    res =  []\n",
    "    for l in lines:\n",
    "        x1,y1,x2,y2 = l\n",
    "        t = get_t(x,y,x1,y1,x2,y2)\n",
    "        if(t>=0 and t<=1):\n",
    "            rx, ry = get_ls_proj(x,y,x1,y1,x2,y2)\n",
    "            d = calcd(x,y,rx,ry)\n",
    "        elif(t<0):\n",
    "            rx, ry = x1,y1\n",
    "            d = calcd (x,y,x1,y1)\n",
    "        else:\n",
    "            rx,ry = x2,y2\n",
    "            d = calcd(x,y,x2,y2)\n",
    "        res.append([rx,ry,d])\n",
    "    arr = np.array(res)\n",
    "    row_i = np.argmin(arr[:,-1])\n",
    "\n",
    "    return arr[row_i,:-1]"
   ]
  },
  {
   "cell_type": "code",
   "execution_count": 11,
   "metadata": {},
   "outputs": [],
   "source": [
    "def square_proj(x,y):\n",
    "    if(x>=-1 and x<=1 and y>=-1 and y<=1):\n",
    "        return np.array([x,y])\n",
    "    lines = []\n",
    "    # top_line y = 1\n",
    "    lines.append([-1,1,1,1])\n",
    "    # bottom_line y = -1\n",
    "    lines.append([-1,-1,1,-1])\n",
    "    # left_line x = -1\n",
    "    lines.append([-1,-1,-1,1])\n",
    "    # right_line x = 1\n",
    "    lines.append([1,-1,1,1])\n",
    "    return lines_proj(x,y,lines)\n"
   ]
  },
  {
   "cell_type": "code",
   "execution_count": 12,
   "metadata": {},
   "outputs": [],
   "source": [
    "#  (−1, −1),(1.5, −1),(−1, 1.5).\n",
    "def triangle_proj(x,y):\n",
    "    if( y <=(-x + 0.5) and x>=-1 and y>=-1):\n",
    "        return np.array([x,y])\n",
    "    lines = []\n",
    "    # bottom_line y = -1\n",
    "    lines.append([-1,-1,1.5,-1])\n",
    "    # right_line y= -x + 0.5\n",
    "    lines.append([-1,1.5,1.5,-1])\n",
    "    # left_line x = -1\n",
    "    lines.append([-1,-1,-1,1.5])\n",
    "    return lines_proj(x,y,lines)"
   ]
  },
  {
   "cell_type": "code",
   "execution_count": 13,
   "metadata": {},
   "outputs": [],
   "source": [
    "def gradient_descent(point, lr, gradient, steps = 1, prj = lambda x,y: np.array([x,y])):\n",
    "    # starting point - point\n",
    "    # lr - learning rate\n",
    "    # gradient -  gradient function\n",
    "    # steps -  how many times to perform the algorithm\n",
    "    # prj - projection for PGD\n",
    "    results = []\n",
    "    for step in range(steps):\n",
    "        new_point = point - lr*gradient(*point)\n",
    "        results.append(prj(*new_point))\n",
    "        point = new_point\n",
    "    return np.array(results)"
   ]
  },
  {
   "cell_type": "code",
   "execution_count": 14,
   "metadata": {},
   "outputs": [],
   "source": [
    "def grad2(x,y):\n",
    "    return np.array([2*x + math.e**x - y,2*y-x])\n",
    "def grad3(x,y):\n",
    "    return np.array([2*x,4*y])"
   ]
  },
  {
   "cell_type": "code",
   "execution_count": 15,
   "metadata": {},
   "outputs": [],
   "source": [
    "x1 = np.array([-1,1])\n",
    "x_min = np.array([-0.4,-0.2])\n",
    "beta = 9.599\n",
    "L = 6\n",
    "alpha = 9.383\n",
    "T = 10\n",
    "lr1 = 1/beta\n",
    "lr2 = calcd(*x1,*x_min)/(L*math.sqrt(10))\n",
    "lr3 = 2/(alpha + beta)"
   ]
  },
  {
   "cell_type": "code",
   "execution_count": 16,
   "metadata": {},
   "outputs": [
    {
     "name": "stdout",
     "output_type": "stream",
     "text": [
      "1 . Domain:\n",
      "Results for first learning rate:\n",
      "[[-0.72579221  0.68746744]\n",
      " [-0.55336687  0.46861891]\n",
      " [-0.44915372  0.31333141]\n",
      " [-0.38941095  0.20125551]\n",
      " [-0.35788458  0.11875505]\n",
      " [-0.34378202  0.05672831]\n",
      " [-0.34011405  0.00909432]\n",
      " [-0.34244416 -0.02823276]\n",
      " [-0.34800487 -0.05802531]\n",
      " [-0.3551005  -0.08218973]]\n",
      "Results for second learning rate:\n",
      "[[-0.81388097  0.78786797]\n",
      " [-0.67440451  0.61889653]\n",
      " [-0.57129096  0.48368375]\n",
      " [-0.49623371  0.37488416]\n",
      " [-0.44259738  0.28677851]\n",
      " [-0.40514847  0.21492555]\n",
      " [-0.37980968  0.15588216]\n",
      " [-0.36343945  0.1069805 ]\n",
      " [-0.35364047  0.06615212]\n",
      " [-0.34859839  0.03179064]]\n",
      "Results for third learning rate:\n",
      "[[-0.72267195  0.68391107]\n",
      " [-0.54947612  0.4636504 ]\n",
      " [-0.44565666  0.30805279]\n",
      " [-0.38676271  0.19618236]\n",
      " [-0.35615945  0.11409117]\n",
      " [-0.34287854  0.05252318]\n",
      " [-0.33986981  0.00532848]\n",
      " [-0.342693   -0.03160406]\n",
      " [-0.34860114 -0.06105142]\n",
      " [-0.35592636 -0.08491595]]\n",
      "2 . Domain:\n",
      "Results for first learning rate:\n",
      "[[-0.72579221  0.68746744]\n",
      " [-0.55336687  0.46861891]\n",
      " [-0.44915372  0.31333141]\n",
      " [-0.38941095  0.20125551]\n",
      " [-0.35788458  0.11875505]\n",
      " [-0.34378202  0.05672831]\n",
      " [-0.34011405  0.00909432]\n",
      " [-0.34244416 -0.02823276]\n",
      " [-0.34800487 -0.05802531]\n",
      " [-0.3551005  -0.08218973]]\n",
      "Results for second learning rate:\n",
      "[[-0.81388097  0.78786797]\n",
      " [-0.67440451  0.61889653]\n",
      " [-0.57129096  0.48368375]\n",
      " [-0.49623371  0.37488416]\n",
      " [-0.44259738  0.28677851]\n",
      " [-0.40514847  0.21492555]\n",
      " [-0.37980968  0.15588216]\n",
      " [-0.36343945  0.1069805 ]\n",
      " [-0.35364047  0.06615212]\n",
      " [-0.34859839  0.03179064]]\n",
      "Results for third learning rate:\n",
      "[[-0.72267195  0.68391107]\n",
      " [-0.54947612  0.4636504 ]\n",
      " [-0.44565666  0.30805279]\n",
      " [-0.38676271  0.19618236]\n",
      " [-0.35615945  0.11409117]\n",
      " [-0.34287854  0.05252318]\n",
      " [-0.33986981  0.00532848]\n",
      " [-0.342693   -0.03160406]\n",
      " [-0.34860114 -0.06105142]\n",
      " [-0.35592636 -0.08491595]]\n",
      "3 . Domain:\n",
      "Results for first learning rate:\n",
      "[[-0.72579221  0.68746744]\n",
      " [-0.55336687  0.46861891]\n",
      " [-0.44915372  0.31333141]\n",
      " [-0.38941095  0.20125551]\n",
      " [-0.35788458  0.11875505]\n",
      " [-0.34378202  0.05672831]\n",
      " [-0.34011405  0.00909432]\n",
      " [-0.34244416 -0.02823276]\n",
      " [-0.34800487 -0.05802531]\n",
      " [-0.3551005  -0.08218973]]\n",
      "Results for second learning rate:\n",
      "[[-0.81388097  0.78786797]\n",
      " [-0.67440451  0.61889653]\n",
      " [-0.57129096  0.48368375]\n",
      " [-0.49623371  0.37488416]\n",
      " [-0.44259738  0.28677851]\n",
      " [-0.40514847  0.21492555]\n",
      " [-0.37980968  0.15588216]\n",
      " [-0.36343945  0.1069805 ]\n",
      " [-0.35364047  0.06615212]\n",
      " [-0.34859839  0.03179064]]\n",
      "Results for third learning rate:\n",
      "[[-0.72267195  0.68391107]\n",
      " [-0.54947612  0.4636504 ]\n",
      " [-0.44565666  0.30805279]\n",
      " [-0.38676271  0.19618236]\n",
      " [-0.35615945  0.11409117]\n",
      " [-0.34287854  0.05252318]\n",
      " [-0.33986981  0.00532848]\n",
      " [-0.342693   -0.03160406]\n",
      " [-0.34860114 -0.06105142]\n",
      " [-0.35592636 -0.08491595]]\n"
     ]
    }
   ],
   "source": [
    "domains = [circle_proj,square_proj,triangle_proj]\n",
    "_1,_2,_3 = [],[],[]\n",
    "for i,domain in enumerate(domains):\n",
    "    print(i+1,'. Domain:')\n",
    "    print('Results for first learning rate:')\n",
    "    res = gradient_descent(x1,lr=lr1,gradient=grad2,steps=T,prj=domain)\n",
    "    print(res)\n",
    "    _1.append(res[-1])\n",
    "    print('Results for second learning rate:')\n",
    "    res = gradient_descent(x1,lr=lr2,gradient=grad2,steps=T,prj=domain)\n",
    "    print(res)\n",
    "    _2.append(res[-1])\n",
    "    print('Results for third learning rate:')\n",
    "    res = gradient_descent(x1,lr=lr3,gradient=grad2,steps=T,prj=domain)\n",
    "    print(res)\n",
    "    _3.append(res[-1])"
   ]
  },
  {
   "cell_type": "code",
   "execution_count": 17,
   "metadata": {},
   "outputs": [
    {
     "name": "stdout",
     "output_type": "stream",
     "text": [
      "[[-0.3551005  -0.08218973]\n",
      " [-0.3551005  -0.08218973]\n",
      " [-0.3551005  -0.08218973]]\n",
      "[[-0.34859839  0.03179064]\n",
      " [-0.34859839  0.03179064]\n",
      " [-0.34859839  0.03179064]]\n",
      "[[-0.35592636 -0.08491595]\n",
      " [-0.35592636 -0.08491595]\n",
      " [-0.35592636 -0.08491595]]\n"
     ]
    }
   ],
   "source": [
    "print(np.array(_1))\n",
    "print(np.array(_2))\n",
    "print(np.array(_3))"
   ]
  },
  {
   "cell_type": "markdown",
   "metadata": {},
   "source": [
    "##### Note:\n",
    "We can see that best performing learning rate at the is the one which got closest to the actual minimum. In this case the learning rate 3 (**lr3**) showed the best results. We can say that this was logical outcome because strong convexity and beta smoothness was use for optimization of function in terms of convexity."
   ]
  },
  {
   "cell_type": "code",
   "execution_count": null,
   "metadata": {},
   "outputs": [],
   "source": []
  }
 ],
 "metadata": {
  "kernelspec": {
   "display_name": "Python 3.7.6 64-bit ('mlds1': conda)",
   "language": "python",
   "name": "python37664bitmlds1condaf709c9cf13a549d58213afca874e8de1"
  },
  "language_info": {
   "codemirror_mode": {
    "name": "ipython",
    "version": 3
   },
   "file_extension": ".py",
   "mimetype": "text/x-python",
   "name": "python",
   "nbconvert_exporter": "python",
   "pygments_lexer": "ipython3",
   "version": "3.7.6"
  }
 },
 "nbformat": 4,
 "nbformat_minor": 4
}
